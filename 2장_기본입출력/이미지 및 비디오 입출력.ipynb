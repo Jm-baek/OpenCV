{
 "cells": [
  {
   "cell_type": "code",
   "execution_count": null,
   "metadata": {},
   "outputs": [],
   "source": [
    "import numpy as np\n",
    "import cv2\n",
    "import os"
   ]
  },
  {
   "cell_type": "markdown",
   "metadata": {},
   "source": [
    "오류는 종료 기능 없이 실행되는 코드에서 강제 종료해서 발생한 에러입니다."
   ]
  },
  {
   "cell_type": "markdown",
   "metadata": {},
   "source": [
    "## 1. 이미지 읽어오기\n",
    "**alpha channel**!?  \n",
    "각 화소에 대해 색상 표현의 데이터로부터 분리한 보조 데이터를 일컫는다.  \n",
    "단색(RGB) 말고도 직접 표시되지 않는 색의 데이터를 넣을 수 있다.  \n",
    "이것을 알파 채널이라고 부르며, 화상 마스크, 복구 화상 합성 등에 쓰인다.  \n",
    "\n",
    "cv2.imread(img_file, cv2.IMREAD_UNCHANGED)  \n",
    "- 이미지파일을 alpha channel까지 포함하여 읽어 들입니다.  \n",
    "\n",
    "cv2.imread(img_file, cv2.IMREAD_COLOR)      \n",
    "- 이미지 파일을 Color로 읽어들입니다. 투명한 부분은 무시되며, Default값입니다.\n",
    "\n",
    "cv2.imread(img_file, cv2.IMREAD_GRAYSCALE)  \n",
    "- 이미지를 Grayscale로 읽어 들입니다. 실제 이미지 처리시 중간단계로 많이 사용합니다.\n"
   ]
  },
  {
   "cell_type": "code",
   "execution_count": 15,
   "metadata": {
    "code_folding": []
   },
   "outputs": [
    {
     "name": "stdout",
     "output_type": "stream",
     "text": [
      "(480, 640, 3)\n"
     ]
    }
   ],
   "source": [
    "img_file = './images/000000000731.jpg'\n",
    "img_file = cv2.imread(img_file)               # opencv는 RGB가 아닌 BGR로 읽어온다.\n",
    "\n",
    "if img_file is not None:\n",
    "    print(img_file.shape)                     # height, width, channel\n",
    "    cv2.imshow('0', img_file)                 # 띄우는 창 이름, 이미지 파일\n",
    "    # cv2.imwrite('./images/000000000731_copy.jpg')    # 저장할 파일 경로 및 이름 지정, 파일이름\n",
    "    cv2.waitKey()                             # 아무 키가 입력될 때까지 다음 이미지로 안 넘어간다.\n",
    "    cv2.destroyAllWindows()                   # 이미지 다 확인 후, 창 모두 닫기\n",
    "else:\n",
    "    print('No image file.')"
   ]
  },
  {
   "cell_type": "markdown",
   "metadata": {},
   "source": [
    "___________________________________________________"
   ]
  },
  {
   "cell_type": "markdown",
   "metadata": {},
   "source": [
    "## 2. 동영상 및 카메라 프레임 읽기\n",
    "동영상 파일이나 컴퓨터에 연결한 카메라 장치로부터 연속된 이미지 프레임을 읽을 수 있는 API를 제공한다.  \n",
    "\n",
    "cap = cv2.VideoCapture(file_path or index): 비디오 캡처 객체 생성자\n",
    "- file_path: 동영상 파일 경로\n",
    "- index: 카메라 장치 번호, 0부터 순차적으로 증가\n",
    "- cap: 객체\n",
    "\n",
    "ret = cap.isOpened(): 객체 초기화 확인\n",
    "- ret: 프레임 읽기 성공 또는 실패여부, True/False\n",
    "\n",
    "ret, img = cap.read(): 영상 프레임 읽기, 튜플로 제공\n",
    "- ret: 프레임 읽기 성공 또는 실패 여부, True/False\n",
    "- img: 프레임 이미지, Numpy 배열 또는 None\n",
    "\n",
    "cap.set(id, value): 속성 변경  \n",
    "cap.get(id): 속성 확인  \n",
    "cap.release(): 갭쳐 자원 반납(프로그램 종료하기 전에 자원을 반납해야한다)  \n"
   ]
  },
  {
   "cell_type": "markdown",
   "metadata": {},
   "source": [
    "cv2.waitKey(25)가 필요한 이유는 각 프레임을 화면에 표시하는 시간이 너무 빠르면 우리 눈으로 볼 수 없기 때문이다.  \n",
    "지연 시간은 실습에 사용할 동영상의 FPS(Frames Per Second, 초당 프레임 수)에 맞게 조정해서 적절한 속도로 영상을 재생하게 해야한다."
   ]
  },
  {
   "cell_type": "markdown",
   "metadata": {},
   "source": [
    "cv2.waitKey(): 함수의 매개변수인 숫자에서 0 은 무한대기를 가리킵니다. 만약 0 대신 아래와 같이 1000 을 입력하면 ms 단위이기 때문에 1초가 지나면 다음 라인의 소스인 cv2.destoryAllWindows() 가 실행되기 때문에 프로그램을 종료하게 됩니다."
   ]
  },
  {
   "cell_type": "markdown",
   "metadata": {},
   "source": [
    "1초를 밀리초(ms) 단위로 환산  \n",
    "지연시간 = 1000 % fps  \n",
    "25 = 1000 % 40"
   ]
  },
  {
   "cell_type": "code",
   "execution_count": 20,
   "metadata": {
    "scrolled": true
   },
   "outputs": [
    {
     "ename": "KeyboardInterrupt",
     "evalue": "",
     "output_type": "error",
     "traceback": [
      "\u001b[1;31m---------------------------------------------------------------------------\u001b[0m",
      "\u001b[1;31mKeyboardInterrupt\u001b[0m                         Traceback (most recent call last)",
      "\u001b[1;32m<ipython-input-20-51b38dd88e4d>\u001b[0m in \u001b[0;36m<module>\u001b[1;34m\u001b[0m\n\u001b[0;32m      8\u001b[0m         \u001b[1;32mif\u001b[0m \u001b[0mret\u001b[0m\u001b[1;33m:\u001b[0m\u001b[1;33m\u001b[0m\u001b[1;33m\u001b[0m\u001b[0m\n\u001b[0;32m      9\u001b[0m             \u001b[0mcv2\u001b[0m\u001b[1;33m.\u001b[0m\u001b[0mimshow\u001b[0m\u001b[1;33m(\u001b[0m\u001b[0mvideo_file\u001b[0m\u001b[1;33m,\u001b[0m \u001b[0mimg\u001b[0m\u001b[1;33m)\u001b[0m\u001b[1;33m\u001b[0m\u001b[1;33m\u001b[0m\u001b[0m\n\u001b[1;32m---> 10\u001b[1;33m             \u001b[0mcv2\u001b[0m\u001b[1;33m.\u001b[0m\u001b[0mwaitKey\u001b[0m\u001b[1;33m(\u001b[0m\u001b[1;36m25\u001b[0m\u001b[1;33m)\u001b[0m              \u001b[1;31m# 25ms 지연(40fps로 가정)\u001b[0m\u001b[1;33m\u001b[0m\u001b[1;33m\u001b[0m\u001b[0m\n\u001b[0m\u001b[0;32m     11\u001b[0m         \u001b[1;32melse\u001b[0m\u001b[1;33m:\u001b[0m\u001b[1;33m\u001b[0m\u001b[1;33m\u001b[0m\u001b[0m\n\u001b[0;32m     12\u001b[0m             \u001b[1;32mbreak\u001b[0m\u001b[1;33m\u001b[0m\u001b[1;33m\u001b[0m\u001b[0m\n",
      "\u001b[1;31mKeyboardInterrupt\u001b[0m: "
     ]
    }
   ],
   "source": [
    "# 저장된 영상 불러오기\n",
    "video_file = './videos/youtube.mp4'\n",
    "\n",
    "cap = cv2.VideoCapture(video_file)\n",
    "if cap.isOpened():                       # 캡쳐 객체 초기화 확인\n",
    "    while True:\n",
    "        ret, img = cap.read()            # 다음 프레임 읽기\n",
    "        if ret:\n",
    "            cv2.imshow(video_file, img)\n",
    "            cv2.waitKey(25)              # 25ms 지연(40fps로 가정)\n",
    "        else:\n",
    "            break\n",
    "else:\n",
    "    print(\"can't open video\")            # 캡쳐 객체 초기화 실패\n",
    "cap.release()                            # 캡쳐 자원 반납\n",
    "cv2.destroyAllWindows()"
   ]
  },
  {
   "cell_type": "markdown",
   "metadata": {},
   "source": [
    "동영상 파일과는 다르게 카메라로부터 프레임을 읽는 경우 파일의 끝이 정해져 있지 않으므로 무한루프를 빠져 나올 조건이 없습니다. 그래서 사용자가 아무 키나 누르면 빠져 나오게 했습니다.  \n",
    "\n",
    "cv2.waitKey(): 함수는 지정한 대기 시간(1ms) 동안 키 입력이 없으면 -1을 반환한다.  \n",
    "반환된 값이 -1이 아니면 아무 키나 입력되었다는 뜻."
   ]
  },
  {
   "cell_type": "code",
   "execution_count": 19,
   "metadata": {
    "code_folding": []
   },
   "outputs": [],
   "source": [
    "# 카메라 프레임 읽기\n",
    "\n",
    "cap = cv2.VideoCapture(0)                # 0번 카메라 장치 연결\n",
    "if cap.isOpened():\n",
    "    while True:\n",
    "        ret, img = cap.read()            # 카메라 프레임 읽기\n",
    "        if ret:\n",
    "            cv2.imshow('camera', img)    # 프레임 이미지 표시\n",
    "            if cv2.waitKey(1) != -1:    # 1ms 동안 키 입력대기\n",
    "                break\n",
    "        else:\n",
    "            print('no frame')\n",
    "            break\n",
    "else:\n",
    "    print(\"can't open camera.\")\n",
    "    \n",
    "cap.release()\n",
    "cv2.destroyAllWindows()"
   ]
  },
  {
   "cell_type": "markdown",
   "metadata": {},
   "source": [
    "_________________________________________"
   ]
  },
  {
   "cell_type": "markdown",
   "metadata": {},
   "source": [
    "### 카메라 비디오 속성 제어\n",
    "\n",
    "get(id): 해당 속성의 값을 구할 수 있다.  \n",
    "set(id, value): 아이디와 함께 값을 전달하면 값을 지정할 수 있습니다.  \n",
    "\n",
    "속성 ID: 'cv2.CAP_PROP_'로 시작 하는 상수\n",
    "\n",
    "cv2.CAP_PROP_FRAME_WIDTH: 프레임 폭\n",
    "cv2.CAP_PROP_FRAME_HEIGHT: 프레임 높이\n",
    "cv2.CAP_PROP_FPS: 초당 프레임 수\n",
    "cv2.CAP_PROP_POS_MSEC: 동영상 파일의 프레임 위치(ms)\n",
    "cv2.CAP_PROP_POS_AVI_RATIO: 동영상 파일의 상대 위치(0: 시작, 1:끝)\n",
    "cv2.CAP_PROP_FOURCC: 동영상 파일 코덱 문자\n",
    "cv2.CAP_PROP_AUTOFOCUS: 카메라 자동 초점 조절\n",
    "cv2.CAP_PROP_ZOOM: 카메라 줌"
   ]
  },
  {
   "cell_type": "markdown",
   "metadata": {},
   "source": [
    "**FPS 속성을 카메라 장치로부터 읽을 때는 대부분 정상적인 값을 가져오지 못한다**"
   ]
  },
  {
   "cell_type": "code",
   "execution_count": 23,
   "metadata": {},
   "outputs": [],
   "source": [
    "fps = cap.get(cv2.CAP_PROP_FPS)   # 초당 프레임 수 구하기\n",
    "delay = int(1000/fps)                    # 지연 시간 구하기"
   ]
  },
  {
   "cell_type": "code",
   "execution_count": 31,
   "metadata": {},
   "outputs": [
    {
     "name": "stdout",
     "output_type": "stream",
     "text": [
      "FPS: 29.970030, Delay: 33ms\n"
     ]
    },
    {
     "ename": "KeyboardInterrupt",
     "evalue": "",
     "output_type": "error",
     "traceback": [
      "\u001b[1;31m---------------------------------------------------------------------------\u001b[0m",
      "\u001b[1;31mKeyboardInterrupt\u001b[0m                         Traceback (most recent call last)",
      "\u001b[1;32m<ipython-input-31-7edb20e3a520>\u001b[0m in \u001b[0;36m<module>\u001b[1;34m\u001b[0m\n\u001b[0;32m     12\u001b[0m         \u001b[1;32mif\u001b[0m \u001b[0mret\u001b[0m\u001b[1;33m:\u001b[0m\u001b[1;33m\u001b[0m\u001b[1;33m\u001b[0m\u001b[0m\n\u001b[0;32m     13\u001b[0m             \u001b[0mcv2\u001b[0m\u001b[1;33m.\u001b[0m\u001b[0mimshow\u001b[0m\u001b[1;33m(\u001b[0m\u001b[0mvideo_file\u001b[0m\u001b[1;33m,\u001b[0m \u001b[0mimg\u001b[0m\u001b[1;33m)\u001b[0m\u001b[1;33m\u001b[0m\u001b[1;33m\u001b[0m\u001b[0m\n\u001b[1;32m---> 14\u001b[1;33m             \u001b[0mcv2\u001b[0m\u001b[1;33m.\u001b[0m\u001b[0mwaitKey\u001b[0m\u001b[1;33m(\u001b[0m\u001b[0mdelay\u001b[0m\u001b[1;33m)\u001b[0m          \u001b[1;31m# fps에 맞게 시간 지연\u001b[0m\u001b[1;33m\u001b[0m\u001b[1;33m\u001b[0m\u001b[0m\n\u001b[0m\u001b[0;32m     15\u001b[0m         \u001b[1;32melse\u001b[0m\u001b[1;33m:\u001b[0m\u001b[1;33m\u001b[0m\u001b[1;33m\u001b[0m\u001b[0m\n\u001b[0;32m     16\u001b[0m             \u001b[1;32mbreak\u001b[0m\u001b[1;33m\u001b[0m\u001b[1;33m\u001b[0m\u001b[0m\n",
      "\u001b[1;31mKeyboardInterrupt\u001b[0m: "
     ]
    }
   ],
   "source": [
    "# 저장된 영상 불러오기\n",
    "video_file = './videos/youtube.mp4'\n",
    "\n",
    "cap = cv2.VideoCapture(video_file)\n",
    "if cap.isOpened():                       # 캡쳐 객체 초기화 확인\n",
    "    fps = cap.get(cv2.CAP_PROP_FPS)\n",
    "    delay = int(1000/fps)\n",
    "    print('FPS: %F, Delay: %dms'%(fps, delay))\n",
    "\n",
    "    while True:\n",
    "        ret, img = cap.read()            # 다음 프레임 읽기\n",
    "        if ret:\n",
    "            cv2.imshow(video_file, img)\n",
    "            cv2.waitKey(delay)          # fps에 맞게 시간 지연 \n",
    "        else:\n",
    "            break\n",
    "else:\n",
    "    print(\"can't open video\")            # 캡쳐 객체 초기화 실패\n",
    "cap.release()                            # 캡쳐 자원 반납\n",
    "cv2.destroyAllWindows()"
   ]
  },
  {
   "cell_type": "markdown",
   "metadata": {},
   "source": [
    "카메라로부터 읽은 영상이 너무 고화질인 경우 픽셀 수가 많아 연산하는데 시간이 많이 걸리는 경우가 있습니다. 이때 프레임의 폭과 높이를 제어해서 픽셀 수를 줄일 수 있다."
   ]
  },
  {
   "cell_type": "code",
   "execution_count": 34,
   "metadata": {
    "scrolled": true
   },
   "outputs": [
    {
     "name": "stdout",
     "output_type": "stream",
     "text": [
      "Original width: 640, height: 480\n",
      "Resized width: 320, height: 240\n"
     ]
    }
   ],
   "source": [
    "cap = cv2.VideoCapture(0)                         # 카메라 0번 장치 연결\n",
    "width = cap.get(cv2.CAP_PROP_FRAME_WIDTH)         # 프레임 폭 값 구하기\n",
    "height = cap.get(cv2.CAP_PROP_FRAME_HEIGHT)       # 프레임 높이 값 구하기\n",
    "print('Original width: %d, height: %d'%(width, height))\n",
    "\n",
    "cap.set(cv2.CAP_PROP_FRAME_WIDTH, 320)            # 프레임 폭을 32O으로 설정\n",
    "cap.set(cv2.CAP_PROP_FRAME_HEIGHT, 240)           # 프레임 높이를 240으로 설정\n",
    "width = cap.get(cv2.CAP_PROP_FRAME_WIDTH)         # 재지정한 프레임 폭 값 구하기\n",
    "height = cap.get(cv2.CAP_PROP_FRAME_HEIGHT)       # 재지정한 프레임 높이 값 구하기\n",
    "print('Resized width: %d, height: %d'%(width, height))\n",
    "\n",
    "if cap.isOpened():                                # 객체 초기화\n",
    "    while True:\n",
    "        ret, img = cap.read()                     # 영상 프레임 읽기\n",
    "        if ret:\n",
    "            cv2.imshow('camera', img)\n",
    "            if cv2.waitKey(1) != -1:\n",
    "                break\n",
    "        else:\n",
    "            print('no frame')\n",
    "            break\n",
    "        \n",
    "else:\n",
    "    print(\"can't open camera!\")\n",
    "    \n",
    "cap.release()\n",
    "cv2.destroyAllWindows()"
   ]
  },
  {
   "cell_type": "markdown",
   "metadata": {},
   "source": [
    "_________________________________________"
   ]
  },
  {
   "cell_type": "markdown",
   "metadata": {},
   "source": [
    "### 카메라로 사진 찍기\n",
    "하나의 프레임만 촬영"
   ]
  },
  {
   "cell_type": "code",
   "execution_count": 40,
   "metadata": {},
   "outputs": [],
   "source": [
    "cap = cv2.VideoCapture(0)\n",
    "\n",
    "if cap.isOpened():   # 파일이나 카메라 장치에 제대로 연결되어 있는지 확인\n",
    "    while True:\n",
    "        ret, frame = cap.read()  # 프레임을 읽었는지 안 읽었는지\n",
    "        if ret:\n",
    "            cv2.imshow('camera', frame)\n",
    "            if cv2.waitKey(1) != -1:          # 아무 키를 누르면\n",
    "                cv2.imwrite('photo.jpg', frame)\n",
    "                break\n",
    "        else:\n",
    "            print('no frame!')\n",
    "else:\n",
    "    print('no camera!')\n",
    "cap.release()\n",
    "cv2.destroyAllWindows()      "
   ]
  },
  {
   "cell_type": "markdown",
   "metadata": {},
   "source": [
    "**여러 프레임을 동영상으로 저장**  \n",
    "cv2.VideoWriter(file_path, fourcc, fps, (width, height)): 비디오 저장 클래스 생성자 함수\n",
    "- file_path: 비디오 파일 저장 경로\n",
    "- fourcc: 비디오 인코딩 형식 4글자\n",
    "- fps: 초당 프레임 수\n",
    "- height, width: 프레임 폭과 프레임 높이\n",
    "- writer: 생성된 비디오 저장 객체\n",
    "\n",
    "writer.write(frame): 프레임 저장\n",
    "- frame: 저장할 프레임, Numpy 배열\n",
    "\n",
    "writer.set(id, value): 속성 변경  \n",
    "writer.get(id): 속성 변경  \n",
    "ret = writer.fourcc(c1, c2, c3, c4): fourcc 코드 생성\n",
    "- c1, c2, c3, c4: 인코딩 형식 4글자, 'MJPG', 'DIVX' 등\n",
    "- ret: fourcc 코드\n",
    "\n",
    "cv2.VideoWRiter_fourcc(c1, c2, c3, c4): cv2.VideoWriter.fourcc()"
   ]
  },
  {
   "cell_type": "code",
   "execution_count": 42,
   "metadata": {},
   "outputs": [],
   "source": [
    "cap = cv2.VideoCapture(0)\n",
    "if cap.isOpened():\n",
    "    file_path = './record.avi'\n",
    "    fps = 25.40\n",
    "    fourcc = cv2.VideoWriter_fourcc(*'DIVX')               # 인코딩 포맷 문자\n",
    "    width = cap.get(cv2.CAP_PROP_FRAME_WIDTH)\n",
    "    height = cap.get(cv2.CAP_PROP_FRAME_HEIGHT)\n",
    "    size = (int(width), int(height))                       # 프레임 크기\n",
    "    out = cv2.VideoWriter(file_path, fourcc, fps, size)    # VideoWriter 객체 생성\n",
    "    while True:\n",
    "        ret, frame = cap.read()\n",
    "        if ret:\n",
    "            cv2.imshow('camer', frame)\n",
    "            out.write(frame)                               # 파일 저장\n",
    "            if cv2.waitKey(int(1000/fps))  != -1:\n",
    "                break\n",
    "        else:\n",
    "            print('no frame!')\n",
    "            break\n",
    "    out.release()                                          # 파일 닫기 \n",
    "else:\n",
    "    print(\"can't open camera\")\n",
    "cap.release()\n",
    "cv2.destroyAllWindows()    "
   ]
  }
 ],
 "metadata": {
  "hide_input": false,
  "kernelspec": {
   "display_name": "Python 3",
   "language": "python",
   "name": "python3"
  },
  "language_info": {
   "codemirror_mode": {
    "name": "ipython",
    "version": 3
   },
   "file_extension": ".py",
   "mimetype": "text/x-python",
   "name": "python",
   "nbconvert_exporter": "python",
   "pygments_lexer": "ipython3",
   "version": "3.8.5"
  },
  "latex_envs": {
   "LaTeX_envs_menu_present": true,
   "autoclose": false,
   "autocomplete": true,
   "bibliofile": "biblio.bib",
   "cite_by": "apalike",
   "current_citInitial": 1,
   "eqLabelWithNumbers": true,
   "eqNumInitial": 1,
   "hotkeys": {
    "equation": "Ctrl-E",
    "itemize": "Ctrl-I"
   },
   "labels_anchors": false,
   "latex_user_defs": false,
   "report_style_numbering": false,
   "user_envs_cfg": false
  },
  "toc": {
   "base_numbering": 1,
   "nav_menu": {},
   "number_sections": true,
   "sideBar": true,
   "skip_h1_title": false,
   "title_cell": "Table of Contents",
   "title_sidebar": "Contents",
   "toc_cell": false,
   "toc_position": {},
   "toc_section_display": true,
   "toc_window_display": false
  },
  "varInspector": {
   "cols": {
    "lenName": 16,
    "lenType": 16,
    "lenVar": 40
   },
   "kernels_config": {
    "python": {
     "delete_cmd_postfix": "",
     "delete_cmd_prefix": "del ",
     "library": "var_list.py",
     "varRefreshCmd": "print(var_dic_list())"
    },
    "r": {
     "delete_cmd_postfix": ") ",
     "delete_cmd_prefix": "rm(",
     "library": "var_list.r",
     "varRefreshCmd": "cat(var_dic_list()) "
    }
   },
   "types_to_exclude": [
    "module",
    "function",
    "builtin_function_or_method",
    "instance",
    "_Feature"
   ],
   "window_display": false
  }
 },
 "nbformat": 4,
 "nbformat_minor": 4
}
