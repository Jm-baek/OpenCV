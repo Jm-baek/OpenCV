{
 "cells": [
  {
   "cell_type": "code",
   "execution_count": 8,
   "metadata": {},
   "outputs": [],
   "source": [
    "import os\n",
    "import numpy as np\n",
    "import cv2"
   ]
  },
  {
   "cell_type": "code",
   "execution_count": 21,
   "metadata": {},
   "outputs": [],
   "source": [
    "%matplotlib inline"
   ]
  },
  {
   "cell_type": "markdown",
   "metadata": {},
   "source": [
    "#### 흰색 도화지 만들기"
   ]
  },
  {
   "cell_type": "code",
   "execution_count": 11,
   "metadata": {},
   "outputs": [],
   "source": [
    "img = np.full((500,500,3),255, dtype=np.float32)"
   ]
  },
  {
   "cell_type": "markdown",
   "metadata": {},
   "source": [
    "#### 검은색 도화지 만들기"
   ]
  },
  {
   "cell_type": "code",
   "execution_count": 14,
   "metadata": {},
   "outputs": [],
   "source": [
    "black = np.zeros((500,500,5), dtype=np.float32)"
   ]
  },
  {
   "cell_type": "markdown",
   "metadata": {},
   "source": [
    "#### 바탕화면 저장"
   ]
  },
  {
   "cell_type": "code",
   "execution_count": 13,
   "metadata": {},
   "outputs": [
    {
     "data": {
      "text/plain": [
       "True"
      ]
     },
     "execution_count": 13,
     "metadata": {},
     "output_type": "execute_result"
    }
   ],
   "source": [
    "cv2.imwrite('./img.jpg', img)"
   ]
  },
  {
   "cell_type": "markdown",
   "metadata": {},
   "source": [
    "### 직선그리기\n",
    "다른 컴퓨터에 있어 다시 올리도록 하겠습니다."
   ]
  },
  {
   "cell_type": "markdown",
   "metadata": {},
   "source": [
    "### 다각형 그리기\n",
    "cv2.polylines(img, points, isClosed color[, thickness, lineType]): 다각형  \n",
    "points: 꼭지점 좌표, Numpy 배열 리스트  \n",
    "isCLosed: 닫히 도형 여부, True/False  \n",
    "color: 생상  \n",
    "thicknesS: 선 두께  \n",
    "lineType: 선 타입, cv2.line()과 동일  "
   ]
  },
  {
   "cell_type": "markdown",
   "metadata": {},
   "source": [
    "cv2.polylines() 함수는 선의 굴기를 표현하는 인자에 -1을 지정해서 채우기 효과를 나타내는 것은 지원하지 않습니다."
   ]
  },
  {
   "cell_type": "code",
   "execution_count": 69,
   "metadata": {},
   "outputs": [],
   "source": [
    "img = cv2.imread('./img.jpg')"
   ]
  },
  {
   "cell_type": "code",
   "execution_count": 70,
   "metadata": {},
   "outputs": [],
   "source": [
    "# 번개 모양 좌표 생성\n",
    "pts1 = np.array([[50,50],[150,150],[100,140],[200,240]], dtype=np.int32)\n",
    "\n",
    "# 삼각형 좌표\n",
    "pts2 = np.array([[350,50],[250,200],[450,200]], dtype=np.int32)\n",
    "\n",
    "# 번개 모양 선 좌표\n",
    "pts3 = np.array([[150,300],[50,450],[250,450]], dtype=np.int32)\n",
    "\n",
    "# 5각형 좌표\n",
    "pts4 = np.array([[350,250], [450,350],[400,450],[300,450],[250,350]], \\\n",
    "               dtype=np.int32)"
   ]
  },
  {
   "cell_type": "code",
   "execution_count": 71,
   "metadata": {
    "collapsed": true
   },
   "outputs": [
    {
     "data": {
      "text/plain": [
       "array([[[255, 255, 255],\n",
       "        [255, 255, 255],\n",
       "        [255, 255, 255],\n",
       "        ...,\n",
       "        [255, 255, 255],\n",
       "        [255, 255, 255],\n",
       "        [255, 255, 255]],\n",
       "\n",
       "       [[255, 255, 255],\n",
       "        [255, 255, 255],\n",
       "        [255, 255, 255],\n",
       "        ...,\n",
       "        [255, 255, 255],\n",
       "        [255, 255, 255],\n",
       "        [255, 255, 255]],\n",
       "\n",
       "       [[255, 255, 255],\n",
       "        [255, 255, 255],\n",
       "        [255, 255, 255],\n",
       "        ...,\n",
       "        [255, 255, 255],\n",
       "        [255, 255, 255],\n",
       "        [255, 255, 255]],\n",
       "\n",
       "       ...,\n",
       "\n",
       "       [[255, 255, 255],\n",
       "        [255, 255, 255],\n",
       "        [255, 255, 255],\n",
       "        ...,\n",
       "        [255, 255, 255],\n",
       "        [255, 255, 255],\n",
       "        [255, 255, 255]],\n",
       "\n",
       "       [[255, 255, 255],\n",
       "        [255, 255, 255],\n",
       "        [255, 255, 255],\n",
       "        ...,\n",
       "        [255, 255, 255],\n",
       "        [255, 255, 255],\n",
       "        [255, 255, 255]],\n",
       "\n",
       "       [[255, 255, 255],\n",
       "        [255, 255, 255],\n",
       "        [255, 255, 255],\n",
       "        ...,\n",
       "        [255, 255, 255],\n",
       "        [255, 255, 255],\n",
       "        [255, 255, 255]]], dtype=uint8)"
      ]
     },
     "execution_count": 71,
     "metadata": {},
     "output_type": "execute_result"
    }
   ],
   "source": [
    "# 다각형 그리기\n",
    "cv2.polylines(img, [pts1], False, (255,0,0))    # 번개 모양 선 그리기\n",
    "cv2.polylines(img, [pts2], False, (0,0,0), 10)     # 3각형 열린선 그리기 \n",
    "cv2.polylines(img, [pts3], True, (0,0,255), 10)    # 3각형 닫힌 도형 그리기\n",
    "cv2.polylines(img, [pts4], True, (0,0,0))          # 5각형 닫힌 도형 그리기"
   ]
  },
  {
   "cell_type": "code",
   "execution_count": 72,
   "metadata": {},
   "outputs": [],
   "source": [
    "cv2.imshow('polylines', img)\n",
    "cv2.waitKey(0)\n",
    "cv2.destroyAllWindows()"
   ]
  },
  {
   "attachments": {
    "image.png": {
     "image/png": "[encoded data removed]"
    }
   },
   "cell_type": "markdown",
   "metadata": {},
   "source": [
    "![image.png](attachment:image.png)"
   ]
  },
  {
   "cell_type": "markdown",
   "metadata": {},
   "source": [
    "### 원, 타원, 호 그리기\n",
    "cv2.circle(img, center, radius, color, [,thickness, lineType]): 원 그리기  \n",
    "center: 원의 좌표(x,y)  \n",
    "radius: 원의 반지름  \n",
    "thickness: 선 두께(-1:채우기)  \n",
    "lineType: 선 타입, cv2.line()과 동일  "
   ]
  },
  {
   "cell_type": "markdown",
   "metadata": {},
   "source": [
    "cv2.ellipse(img, center, axes, angle, from, to, color[, thickness, lineType]): 호나 타원 그리기 함수  \n",
    "cetner:원 좌표(x,y)  \n",
    "axes: 기준 축 길이  \n",
    "angle: 기준 축 회전 각도  \n",
    "from, to: 호를 그릴 시작 각도와 끝 각도"
   ]
  },
  {
   "cell_type": "code",
   "execution_count": 66,
   "metadata": {},
   "outputs": [],
   "source": [
    "img = cv2.imread('./img.jpg')"
   ]
  },
  {
   "cell_type": "code",
   "execution_count": 67,
   "metadata": {
    "collapsed": true
   },
   "outputs": [
    {
     "data": {
      "text/plain": [
       "array([[[255, 255, 255],\n",
       "        [255, 255, 255],\n",
       "        [255, 255, 255],\n",
       "        ...,\n",
       "        [255, 255, 255],\n",
       "        [255, 255, 255],\n",
       "        [255, 255, 255]],\n",
       "\n",
       "       [[255, 255, 255],\n",
       "        [255, 255, 255],\n",
       "        [255, 255, 255],\n",
       "        ...,\n",
       "        [255, 255, 255],\n",
       "        [255, 255, 255],\n",
       "        [255, 255, 255]],\n",
       "\n",
       "       [[255, 255, 255],\n",
       "        [255, 255, 255],\n",
       "        [255, 255, 255],\n",
       "        ...,\n",
       "        [255, 255, 255],\n",
       "        [255, 255, 255],\n",
       "        [255, 255, 255]],\n",
       "\n",
       "       ...,\n",
       "\n",
       "       [[255, 255, 255],\n",
       "        [255, 255, 255],\n",
       "        [255, 255, 255],\n",
       "        ...,\n",
       "        [255, 255, 255],\n",
       "        [255, 255, 255],\n",
       "        [255, 255, 255]],\n",
       "\n",
       "       [[255, 255, 255],\n",
       "        [255, 255, 255],\n",
       "        [255, 255, 255],\n",
       "        ...,\n",
       "        [255, 255, 255],\n",
       "        [255, 255, 255],\n",
       "        [255, 255, 255]],\n",
       "\n",
       "       [[255, 255, 255],\n",
       "        [255, 255, 255],\n",
       "        [255, 255, 255],\n",
       "        ...,\n",
       "        [255, 255, 255],\n",
       "        [255, 255, 255],\n",
       "        [255, 255, 255]]], dtype=uint8)"
      ]
     },
     "execution_count": 67,
     "metadata": {},
     "output_type": "execute_result"
    }
   ],
   "source": [
    "# 원점(150,150), 반지름 100\n",
    "cv2.circle(img, (150,150), 100, (255,0,0))\n",
    "# 원점(300,150), 반지름 70\n",
    "cv2.circle(img, (300,150), 70, (0,255,0), 5)\n",
    "# 원점(400,150), 반지름 50 \n",
    "cv2.circle(img, (400, 150), 50, (0,0,255), -1)\n",
    "\n",
    "# # 원점(50,300), 반지름 50, 회전 0, 0도부터 360도 그리기\n",
    "cv2.ellipse(img, (50,300), (50,50), 0, 0, 360, (0,0,255))\n",
    "# 원점(150,300), 아래 반원 그리기\n",
    "cv2.ellipse(img, (150,300), (50,50), 0, 0, 180, (255,0,0))\n",
    "# 원점(200,300), 위 반원 그리기\n",
    "cv2.ellipse(img, (200,300), (50,50), 0, 181, 360, (0,0,255))\n",
    "\n",
    "# 원점(325, 300), 반지름(75,50), 납작한 타원 그리기\n",
    "cv2.ellipse(img, (325,300), (75,50), 0, 0, 360, (0,0,0))\n",
    "# 원점(400,425), 반지름(50,75), 홀쭉한 타원 그리기\n",
    "cv2.ellipse(img, (450,300), (50,75), 0, 0, 360, (255,0,255))\n",
    "\n",
    "# 원점(50,425), 반지름(50,75), 회전 15도\n",
    "cv2.ellipse(img, (50,425), (50,75), 15, 0 ,360, (0,0,0))\n",
    "# 원점(200,425), 반지름(5,0,75), 회전 45도\n",
    "cv2.ellipse(img, (200,425), (50,75), 45, 0, 360, (0,0,0))\n",
    "\n",
    "# 원점(350,425), 훌쭊한 타원 45도 회전 후 아래 반원 그리기\n",
    "cv2.ellipse(img, (350, 425), (50, 75,), 45, 0, 180, (0,0,255))\n",
    "# 원점(400,425), 홀쭉한 타원 45도 회전 후 반원 그림기\n",
    "cv2.ellipse(img, (400, 425), (50, 75), 45, 181, 360, (255,0,0))"
   ]
  },
  {
   "cell_type": "code",
   "execution_count": 68,
   "metadata": {},
   "outputs": [],
   "source": [
    "cv2.imshow('circle', img)\n",
    "cv2.waitKey(0)\n",
    "cv2.destroyAllWindows()"
   ]
  },
  {
   "attachments": {
    "image.png": {
     "image/png": "[encoded data removed]"
    }
   },
   "cell_type": "markdown",
   "metadata": {},
   "source": [
    "![image.png](attachment:image.png)"
   ]
  },
  {
   "cell_type": "markdown",
   "metadata": {},
   "source": [
    "### 사각형 그리기\n",
    "cv2.rectangle(img, start, end, color[, thickness, linetype])  \n",
    "start: 사각형 시작 꼭지점(x,y)  \n",
    "end: 사각형 끝 꼭지점(x,y)  "
   ]
  },
  {
   "cell_type": "code",
   "execution_count": 101,
   "metadata": {},
   "outputs": [],
   "source": [
    "img = cv2.imread('./img.jpg')"
   ]
  },
  {
   "cell_type": "code",
   "execution_count": 102,
   "metadata": {
    "collapsed": true
   },
   "outputs": [
    {
     "data": {
      "text/plain": [
       "array([[[255, 255, 255],\n",
       "        [255, 255, 255],\n",
       "        [255, 255, 255],\n",
       "        ...,\n",
       "        [255, 255, 255],\n",
       "        [255, 255, 255],\n",
       "        [255, 255, 255]],\n",
       "\n",
       "       [[255, 255, 255],\n",
       "        [255, 255, 255],\n",
       "        [255, 255, 255],\n",
       "        ...,\n",
       "        [255, 255, 255],\n",
       "        [255, 255, 255],\n",
       "        [255, 255, 255]],\n",
       "\n",
       "       [[255, 255, 255],\n",
       "        [255, 255, 255],\n",
       "        [255, 255, 255],\n",
       "        ...,\n",
       "        [255, 255, 255],\n",
       "        [255, 255, 255],\n",
       "        [255, 255, 255]],\n",
       "\n",
       "       ...,\n",
       "\n",
       "       [[255, 255, 255],\n",
       "        [255, 255, 255],\n",
       "        [255, 255, 255],\n",
       "        ...,\n",
       "        [255, 255, 255],\n",
       "        [255, 255, 255],\n",
       "        [255, 255, 255]],\n",
       "\n",
       "       [[255, 255, 255],\n",
       "        [255, 255, 255],\n",
       "        [255, 255, 255],\n",
       "        ...,\n",
       "        [255, 255, 255],\n",
       "        [255, 255, 255],\n",
       "        [255, 255, 255]],\n",
       "\n",
       "       [[255, 255, 255],\n",
       "        [255, 255, 255],\n",
       "        [255, 255, 255],\n",
       "        ...,\n",
       "        [255, 255, 255],\n",
       "        [255, 255, 255],\n",
       "        [255, 255, 255]]], dtype=uint8)"
      ]
     },
     "execution_count": 102,
     "metadata": {},
     "output_type": "execute_result"
    }
   ],
   "source": [
    "# 좌상, 우하 좌표로 사각형 그리기\n",
    "cv2.rectangle(img, (50,50), (150,150), (250,0,0))\n",
    "# 우하, 좌상 좌표로 사각형 채워 그리기\n",
    "cv2.rectangle(img, (300, 300), (100,100), (0,255,0), 10) \n",
    "# 우상, 좌하 좌표로 사각형 채워 그리기\n",
    "cv2.rectangle(img, (450,200), (200,450), (0,0,255), -1)"
   ]
  },
  {
   "cell_type": "code",
   "execution_count": null,
   "metadata": {},
   "outputs": [],
   "source": [
    "cv2.imshow('rectangle', img)\n",
    "cv2.waitKey(0)\n",
    "cv2.destroyAllWindows()"
   ]
  },
  {
   "cell_type": "markdown",
   "metadata": {},
   "source": [
    "### 글씨 그리기\n",
    "문자열을 이미지에 표시하는 함수는 cv2.putText()  \n",
    "cv2.putText(img, text, point, fontFace, fontSize, color[, thickness, linetype])  \n",
    "text: 표시할 문자열  \n",
    "pint: 글씨를 표시할 좌표(좌측 하단 기준)(x,y)  \n",
    "fontFace: 글꼴  \n",
    "fontSize: 글꼴 크기  "
   ]
  },
  {
   "cell_type": "markdown",
   "metadata": {},
   "source": [
    "선택할 수 있는 글꼴의 종류는 cv2.FONT_HERSHEY_로 시작하느 상수로 정해져있다.  \n",
    "크게 세리프체와 산세리프체 그리고 필기체로 나뉘는데, **세리프체**는 한글 글꼴의 명조체처럼 글자 끝에 장식을 붙여 모양을 낸 글꼴을 통틀어 말하며, **산세리프체**는 고딕체처럼 획에 특별한 모양을 낸 것이 없는 글꼴을 말한다."
   ]
  },
  {
   "cell_type": "markdown",
   "metadata": {},
   "source": [
    "san은 프랑스어로 '없다', serif는 획의 끝이 돌출된 부분을 말하는 것으로 산세리프는 세리프가 없다는 뜻입니다."
   ]
  },
  {
   "cell_type": "code",
   "execution_count": 86,
   "metadata": {},
   "outputs": [],
   "source": [
    "img = cv2.imread('./img.jpg')"
   ]
  },
  {
   "cell_type": "code",
   "execution_count": 87,
   "metadata": {},
   "outputs": [],
   "source": [
    "# sans-serif small\n",
    "cv2.putText(img, 'plain', (50,45), cv2.FONT_HERSHEY_PLAIN, 1, (0,0,0))\n",
    "# sans-serif normal\n",
    "cv2.putText(img, \"Simplex\", (50,70), cv2.FONT_HERSHEY_SIMPLEX, 1, (0,0,0))\n",
    "# sans-serif bold\n",
    "cv2.putText(img, \"Duplex\", (50, 110), cv2.FONT_HERSHEY_DUPLEX, 1, (0,0,0))\n",
    "# sasn-serif normal X2\n",
    "cv2.putText(img, \"Simplex\", (200, 110), cv2.FONT_HERSHEY_SIMPLEX, 2, (0,0,250))\n",
    "\n",
    "# serif small\n",
    "cv2.putText(img, 'Complex Small', (50, 180), cv2.FONT_HERSHEY_COMPLEX_SMALL, 1, (0,0,0))\n",
    "# serif normal\n",
    "cv2.putText(img, 'Complex', (50, 220), cv2.FONT_HERSHEY_COMPLEX, 1, (0,0,0))\n",
    "# serif bold\n",
    "cv2.putText(img, 'Triplex', (50, 260), cv2.FONT_HERSHEY_TRIPLEX, 1, (0,0,0))\n",
    "# serif normal X2\n",
    "cv2.putText(img, 'Complex', (200,260), cv2.FONT_HERSHEY_TRIPLEX, 2, (0,0,255))\n",
    "\n",
    "# hand-writing sans-serif\n",
    "cv2.putText(img, 'Script Simplex', (50,330), cv2.FONT_HERSHEY_SCRIPT_SIMPLEX, 1, (0,0,0))\n",
    "# hand-writing serif\n",
    "cv2.putText(img, 'Script Complex', (50,370), cv2.FONT_HERSHEY_SCRIPT_COMPLEX, 1, (0,0,0))\n",
    "\n",
    "# sans-serif + italic\n",
    "cv2.putText(img, 'Plain Italic', (50,430), cv2.FONT_HERSHEY_PLAIN | cv2.FONT_ITALIC, 1, (0,0,0))\n",
    "# sarif + italic\n",
    "cv2.putText(img, 'Complex Italic', (50,470), cv2.FONT_HERSHEY_COMPLEX | cv2.FONT_ITALIC, 1, (0,0,0))\n",
    "\n",
    "cv2.imshow('draw text', img)\n",
    "cv2.waitKey(0)\n",
    "cv2.destroyAllWindows()"
   ]
  },
  {
   "attachments": {
    "image.png": {
     "image/png": "[encoded data removed]"
    }
   },
   "cell_type": "markdown",
   "metadata": {},
   "source": [
    "![image.png](attachment:image.png)"
   ]
  },
  {
   "cell_type": "markdown",
   "metadata": {},
   "source": [
    "#### 사각형 위에 글자 작성"
   ]
  },
  {
   "cell_type": "code",
   "execution_count": 103,
   "metadata": {
    "collapsed": true
   },
   "outputs": [
    {
     "data": {
      "text/plain": [
       "array([[[255, 255, 255],\n",
       "        [255, 255, 255],\n",
       "        [255, 255, 255],\n",
       "        ...,\n",
       "        [255, 255, 255],\n",
       "        [255, 255, 255],\n",
       "        [255, 255, 255]],\n",
       "\n",
       "       [[255, 255, 255],\n",
       "        [255, 255, 255],\n",
       "        [255, 255, 255],\n",
       "        ...,\n",
       "        [255, 255, 255],\n",
       "        [255, 255, 255],\n",
       "        [255, 255, 255]],\n",
       "\n",
       "       [[255, 255, 255],\n",
       "        [255, 255, 255],\n",
       "        [255, 255, 255],\n",
       "        ...,\n",
       "        [255, 255, 255],\n",
       "        [255, 255, 255],\n",
       "        [255, 255, 255]],\n",
       "\n",
       "       ...,\n",
       "\n",
       "       [[255, 255, 255],\n",
       "        [255, 255, 255],\n",
       "        [255, 255, 255],\n",
       "        ...,\n",
       "        [255, 255, 255],\n",
       "        [255, 255, 255],\n",
       "        [255, 255, 255]],\n",
       "\n",
       "       [[255, 255, 255],\n",
       "        [255, 255, 255],\n",
       "        [255, 255, 255],\n",
       "        ...,\n",
       "        [255, 255, 255],\n",
       "        [255, 255, 255],\n",
       "        [255, 255, 255]],\n",
       "\n",
       "       [[255, 255, 255],\n",
       "        [255, 255, 255],\n",
       "        [255, 255, 255],\n",
       "        ...,\n",
       "        [255, 255, 255],\n",
       "        [255, 255, 255],\n",
       "        [255, 255, 255]]], dtype=uint8)"
      ]
     },
     "execution_count": 103,
     "metadata": {},
     "output_type": "execute_result"
    }
   ],
   "source": [
    "cv2.putText(img, '(50,50)', (50,45), cv2.FONT_HERSHEY_PLAIN, 1, (0,0,0))"
   ]
  },
  {
   "cell_type": "code",
   "execution_count": 104,
   "metadata": {},
   "outputs": [],
   "source": [
    "cv2.imshow('rectangle_text', img)\n",
    "cv2.waitKey(0)\n",
    "cv2.destroyAllWindows()"
   ]
  },
  {
   "attachments": {
    "image.png": {
     "image/png": "[encoded data removed]"
    }
   },
   "cell_type": "markdown",
   "metadata": {},
   "source": [
    "![image.png](attachment:image.png)"
   ]
  },
  {
   "cell_type": "code",
   "execution_count": null,
   "metadata": {},
   "outputs": [],
   "source": []
  }
 ],
 "metadata": {
  "kernelspec": {
   "display_name": "Python 3",
   "language": "python",
   "name": "python3"
  },
  "language_info": {
   "codemirror_mode": {
    "name": "ipython",
    "version": 3
   },
   "file_extension": ".py",
   "mimetype": "text/x-python",
   "name": "python",
   "nbconvert_exporter": "python",
   "pygments_lexer": "ipython3",
   "version": "3.7.6"
  }
 },
 "nbformat": 4,
 "nbformat_minor": 4
}
